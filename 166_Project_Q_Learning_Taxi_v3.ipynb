{
  "nbformat": 4,
  "nbformat_minor": 0,
  "metadata": {
    "colab": {
      "provenance": [],
      "authorship_tag": "ABX9TyOnU/Q0l+I491RCVV3qItLt",
      "include_colab_link": true
    },
    "kernelspec": {
      "name": "python3",
      "display_name": "Python 3"
    },
    "language_info": {
      "name": "python"
    }
  },
  "cells": [
    {
      "cell_type": "markdown",
      "metadata": {
        "id": "view-in-github",
        "colab_type": "text"
      },
      "source": [
        "<a href=\"https://colab.research.google.com/github/LeonelCS5/CSCI166-Project/blob/main/166_Project_Q_Learning_Taxi_v3.ipynb\" target=\"_parent\"><img src=\"https://colab.research.google.com/assets/colab-badge.svg\" alt=\"Open In Colab\"/></a>"
      ]
    },
    {
      "cell_type": "code",
      "execution_count": null,
      "metadata": {
        "colab": {
          "base_uri": "https://localhost:8080/"
        },
        "id": "23_dFYNs6xff",
        "outputId": "cd984fa1-72eb-4f6b-87d9-6fd66423770c"
      },
      "outputs": [
        {
          "output_type": "stream",
          "name": "stdout",
          "text": [
            "Requirement already satisfied: gymnasium in /usr/local/lib/python3.10/dist-packages (1.0.0)\n",
            "Requirement already satisfied: numpy in /usr/local/lib/python3.10/dist-packages (1.26.4)\n",
            "Requirement already satisfied: cloudpickle>=1.2.0 in /usr/local/lib/python3.10/dist-packages (from gymnasium) (3.1.0)\n",
            "Requirement already satisfied: typing-extensions>=4.3.0 in /usr/local/lib/python3.10/dist-packages (from gymnasium) (4.12.2)\n",
            "Requirement already satisfied: farama-notifications>=0.0.1 in /usr/local/lib/python3.10/dist-packages (from gymnasium) (0.0.4)\n"
          ]
        }
      ],
      "source": [
        "!pip install gymnasium numpy"
      ]
    },
    {
      "cell_type": "code",
      "source": [
        "import gymnasium as gym\n",
        "import numpy as np\n",
        "import matplotlib.pyplot as plt\n",
        "from numba import njit\n",
        "\n",
        "# Initialize the Taxi-v3 environment\n",
        "env = gym.make(\"Taxi-v3\", render_mode=\"ansi\")\n"
      ],
      "metadata": {
        "id": "sK42g_MA67DD"
      },
      "execution_count": null,
      "outputs": []
    },
    {
      "cell_type": "code",
      "source": [
        "# Initialize Q-table with zeros\n",
        "state_space_size = env.observation_space.n  # Total number of states\n",
        "action_space_size = env.action_space.n  # Total number of actions\n",
        "q_table = np.zeros((state_space_size, action_space_size))\n"
      ],
      "metadata": {
        "id": "HuyN5QrW7Nih"
      },
      "execution_count": null,
      "outputs": []
    },
    {
      "cell_type": "code",
      "source": [
        "learning_rate = 0.1      # How much new information overrides the old\n",
        "discount_factor = 0.9    # How much we prioritize future rewards over immediate rewards\n",
        "epsilon = 1.0            # Starting exploration rate\n",
        "epsilon_decay = 0.995    # Decay rate for exploration\n",
        "epsilon_min = 0.001\n",
        "num_episodes = 5000\n",
        "max_steps_per_episode = 100\n"
      ],
      "metadata": {
        "id": "kwLd2w317RDO"
      },
      "execution_count": null,
      "outputs": []
    },
    {
      "cell_type": "code",
      "source": [
        "# Diagnostic data\n",
        "episode_rewards = [] # List to store total rewards per episode\n",
        "episode_lengths = []\n",
        "illegal_actions = 0\n",
        "action_counts = np.zeros(action_space_size)\n"
      ],
      "metadata": {
        "id": "6orRugyZ7VQd"
      },
      "execution_count": null,
      "outputs": []
    },
    {
      "cell_type": "code",
      "source": [
        "# Training the agent\n",
        "for episode in range(num_episodes):\n",
        "    state, _ = env.reset()  # Reset environment to get the initial state\n",
        "    done = False\n",
        "    total_reward = 0\n",
        "\n",
        "    steps = 0 ###\n",
        "\n",
        "    for step in range(max_steps_per_episode):\n",
        "        # Exploration-exploitation trade-off\n",
        "        if np.random.rand() < epsilon:\n",
        "            action = env.action_space.sample()  # Explore: random action\n",
        "        else:\n",
        "            action = np.argmax(q_table[state])  # Exploit: best known action\n",
        "\n",
        "        # Take the action, observe the result\n",
        "        next_state, reward, done, truncated, _ = env.step(action)\n",
        "\n",
        "        # Update Q-value for the current state-action pair\n",
        "        q_table[state, action] += learning_rate * (reward + discount_factor * np.max(q_table[next_state]) - q_table[state, action])\n",
        "\n",
        "        state = next_state  # Update the state\n",
        "        total_reward += reward\n",
        "\n",
        "        action_counts[action] += 1\n",
        "        steps += 1 ###\n",
        "\n",
        "        if done:  # Stop if the episode ends\n",
        "            episode_rewards.append(total_reward) ###\n",
        "            episode_lengths.append(steps) ###\n",
        "            break\n",
        "\n",
        "    # Decay epsilon (exploration rate)\n",
        "    if epsilon > epsilon_min:\n",
        "        epsilon *= epsilon_decay\n",
        "\n",
        "    # Print progress\n",
        "    if (episode + 1) % 100 == 0:\n",
        "        print(f\"Episode {episode + 1}: Total Reward: {total_reward}\")\n",
        "\n",
        "print(\"Training complete!\")\n",
        "print(\"Final Q-table values:\")\n",
        "print(q_table)\n",
        "print(\"Action counts: \", action_counts)\n"
      ],
      "metadata": {
        "colab": {
          "base_uri": "https://localhost:8080/"
        },
        "id": "PelH5b6R7ZQq",
        "outputId": "d38d3950-39ad-403a-f18b-eb5b5a935783"
      },
      "execution_count": null,
      "outputs": [
        {
          "output_type": "stream",
          "name": "stdout",
          "text": [
            "Episode 100: Total Reward: -271\n",
            "Episode 200: Total Reward: -235\n",
            "Episode 300: Total Reward: 8\n",
            "Episode 400: Total Reward: -41\n",
            "Episode 500: Total Reward: -118\n",
            "Episode 600: Total Reward: -67\n",
            "Episode 700: Total Reward: -7\n",
            "Episode 800: Total Reward: -54\n",
            "Episode 900: Total Reward: -14\n",
            "Episode 1000: Total Reward: -74\n",
            "Episode 1100: Total Reward: 9\n",
            "Episode 1200: Total Reward: -13\n",
            "Episode 1300: Total Reward: -24\n",
            "Episode 1400: Total Reward: -20\n",
            "Episode 1500: Total Reward: 7\n",
            "Episode 1600: Total Reward: -16\n",
            "Episode 1700: Total Reward: 12\n",
            "Episode 1800: Total Reward: 10\n",
            "Episode 1900: Total Reward: 12\n",
            "Episode 2000: Total Reward: 9\n",
            "Episode 2100: Total Reward: -3\n",
            "Episode 2200: Total Reward: 7\n",
            "Episode 2300: Total Reward: 1\n",
            "Episode 2400: Total Reward: -2\n",
            "Episode 2500: Total Reward: 5\n",
            "Episode 2600: Total Reward: 6\n",
            "Episode 2700: Total Reward: 5\n",
            "Episode 2800: Total Reward: 9\n",
            "Episode 2900: Total Reward: 8\n",
            "Episode 3000: Total Reward: 4\n",
            "Episode 3100: Total Reward: 14\n",
            "Episode 3200: Total Reward: 6\n",
            "Episode 3300: Total Reward: 10\n",
            "Episode 3400: Total Reward: 13\n",
            "Episode 3500: Total Reward: 14\n",
            "Episode 3600: Total Reward: 4\n",
            "Episode 3700: Total Reward: 9\n",
            "Episode 3800: Total Reward: 12\n",
            "Episode 3900: Total Reward: 13\n",
            "Episode 4000: Total Reward: 10\n",
            "Episode 4100: Total Reward: 6\n",
            "Episode 4200: Total Reward: 10\n",
            "Episode 4300: Total Reward: 4\n",
            "Episode 4400: Total Reward: 12\n",
            "Episode 4500: Total Reward: 6\n",
            "Episode 4600: Total Reward: 12\n",
            "Episode 4700: Total Reward: 10\n",
            "Episode 4800: Total Reward: 9\n",
            "Episode 4900: Total Reward: 3\n",
            "Episode 5000: Total Reward: 15\n",
            "Training complete!\n",
            "Final Q-table values:\n",
            "[[ 0.          0.          0.          0.          0.          0.        ]\n",
            " [-3.68843664 -3.62316365 -3.67467652 -3.60674923  1.62261467 -6.78846198]\n",
            " [-1.98269805 -1.96234534 -1.98873849 -1.9805283   7.7147     -5.06527789]\n",
            " ...\n",
            " [-1.31148979 -1.1995356  -1.31059482 -1.3148005  -3.51534318 -4.15973971]\n",
            " [-2.44242106 -2.48167948 -2.49477363 -2.46999793 -5.67435614 -3.5393879 ]\n",
            " [-0.199      -0.199      -0.199       1.21234312 -1.909      -2.719     ]]\n",
            "Action counts:  [34729. 34698. 29140. 30134.  8029.  7879.]\n"
          ]
        }
      ]
    },
    {
      "cell_type": "code",
      "source": [
        "# Plotting the episode lengths\n",
        "plt.plot(episode_lengths)\n",
        "plt.xlabel('Episode')\n",
        "plt.ylabel('Steps per Episode')\n",
        "plt.title('Episode Lengths')\n",
        "plt.show()\n",
        "print()\n",
        "# Plotting the total reward per episode\n",
        "plt.plot(episode_rewards)\n",
        "plt.xlabel('Episode')\n",
        "plt.ylabel('Total Reward')\n",
        "plt.title('Total Reward per Episode')\n",
        "plt.show()\n"
      ],
      "metadata": {
        "colab": {
          "base_uri": "https://localhost:8080/",
          "height": 944
        },
        "id": "FIsxUHCr7b3h",
        "outputId": "181f8653-13b3-4657-e625-fd6b8a15106d"
      },
      "execution_count": null,
      "outputs": [
        {
          "output_type": "display_data",
          "data": {
            "text/plain": [
              "<Figure size 640x480 with 1 Axes>"
            ],
            "image/png": "[encoded data removed]"
          },
          "metadata": {}
        },
        {
          "output_type": "stream",
          "name": "stdout",
          "text": [
            "\n"
          ]
        },
        {
          "output_type": "display_data",
          "data": {
            "text/plain": [
              "<Figure size 640x480 with 1 Axes>"
            ],
            "image/png": "[encoded data removed]"
          },
          "metadata": {}
        }
      ]
    },
    {
      "cell_type": "code",
      "source": [
        "# Test the trained agent\n",
        "state, _ = env.reset()\n",
        "done = False\n",
        "total_reward = 0\n",
        "\n",
        "print(f\"Action: {action}, Reward: {reward}, Total Reward: {total_reward}\")\n",
        "print(env.render())\n",
        "\n",
        "while not done:\n",
        "    action = np.argmax(q_table[state])  # Choose the best action based on Q-table\n",
        "    state, reward, done, truncated, _ = env.step(action)\n",
        "    total_reward += reward\n",
        "    env.render()  # Render the environment\n",
        "    print(f\"Action: {action}, Reward: {reward}, Total Reward: {total_reward}\")\n",
        "    print(env.render())\n",
        "\n",
        "print(f\"Total Reward during test: {total_reward}\")\n"
      ],
      "metadata": {
        "colab": {
          "base_uri": "https://localhost:8080/"
        },
        "id": "t0Y9tcZi7eQc",
        "outputId": "64cfa687-7457-4d1f-bb1b-b1e055c28df6"
      },
      "execution_count": null,
      "outputs": [
        {
          "output_type": "stream",
          "name": "stdout",
          "text": [
            "Action: 5, Reward: 20, Total Reward: 0\n",
            "+---------+\n",
            "|\u001b[35mR\u001b[0m: | : :G|\n",
            "| : | : : |\n",
            "| : : : : |\n",
            "| | : | :\u001b[43m \u001b[0m|\n",
            "|Y| : |\u001b[34;1mB\u001b[0m: |\n",
            "+---------+\n",
            "\n",
            "\n",
            "Action: 3, Reward: -1, Total Reward: -1\n",
            "+---------+\n",
            "|\u001b[35mR\u001b[0m: | : :G|\n",
            "| : | : : |\n",
            "| : : : : |\n",
            "| | : |\u001b[43m \u001b[0m: |\n",
            "|Y| : |\u001b[34;1mB\u001b[0m: |\n",
            "+---------+\n",
            "  (West)\n",
            "\n",
            "Action: 0, Reward: -1, Total Reward: -2\n",
            "+---------+\n",
            "|\u001b[35mR\u001b[0m: | : :G|\n",
            "| : | : : |\n",
            "| : : : : |\n",
            "| | : | : |\n",
            "|Y| : |\u001b[34;1m\u001b[43mB\u001b[0m\u001b[0m: |\n",
            "+---------+\n",
            "  (South)\n",
            "\n",
            "Action: 4, Reward: -1, Total Reward: -3\n",
            "+---------+\n",
            "|\u001b[35mR\u001b[0m: | : :G|\n",
            "| : | : : |\n",
            "| : : : : |\n",
            "| | : | : |\n",
            "|Y| : |\u001b[42mB\u001b[0m: |\n",
            "+---------+\n",
            "  (Pickup)\n",
            "\n",
            "Action: 1, Reward: -1, Total Reward: -4\n",
            "+---------+\n",
            "|\u001b[35mR\u001b[0m: | : :G|\n",
            "| : | : : |\n",
            "| : : : : |\n",
            "| | : |\u001b[42m_\u001b[0m: |\n",
            "|Y| : |B: |\n",
            "+---------+\n",
            "  (North)\n",
            "\n",
            "Action: 1, Reward: -1, Total Reward: -5\n",
            "+---------+\n",
            "|\u001b[35mR\u001b[0m: | : :G|\n",
            "| : | : : |\n",
            "| : : :\u001b[42m_\u001b[0m: |\n",
            "| | : | : |\n",
            "|Y| : |B: |\n",
            "+---------+\n",
            "  (North)\n",
            "\n",
            "Action: 3, Reward: -1, Total Reward: -6\n",
            "+---------+\n",
            "|\u001b[35mR\u001b[0m: | : :G|\n",
            "| : | : : |\n",
            "| : :\u001b[42m_\u001b[0m: : |\n",
            "| | : | : |\n",
            "|Y| : |B: |\n",
            "+---------+\n",
            "  (West)\n",
            "\n",
            "Action: 3, Reward: -1, Total Reward: -7\n",
            "+---------+\n",
            "|\u001b[35mR\u001b[0m: | : :G|\n",
            "| : | : : |\n",
            "| :\u001b[42m_\u001b[0m: : : |\n",
            "| | : | : |\n",
            "|Y| : |B: |\n",
            "+---------+\n",
            "  (West)\n",
            "\n",
            "Action: 3, Reward: -1, Total Reward: -8\n",
            "+---------+\n",
            "|\u001b[35mR\u001b[0m: | : :G|\n",
            "| : | : : |\n",
            "|\u001b[42m_\u001b[0m: : : : |\n",
            "| | : | : |\n",
            "|Y| : |B: |\n",
            "+---------+\n",
            "  (West)\n",
            "\n",
            "Action: 1, Reward: -1, Total Reward: -9\n",
            "+---------+\n",
            "|\u001b[35mR\u001b[0m: | : :G|\n",
            "|\u001b[42m_\u001b[0m: | : : |\n",
            "| : : : : |\n",
            "| | : | : |\n",
            "|Y| : |B: |\n",
            "+---------+\n",
            "  (North)\n",
            "\n",
            "Action: 1, Reward: -1, Total Reward: -10\n",
            "+---------+\n",
            "|\u001b[35m\u001b[42mR\u001b[0m\u001b[0m: | : :G|\n",
            "| : | : : |\n",
            "| : : : : |\n",
            "| | : | : |\n",
            "|Y| : |B: |\n",
            "+---------+\n",
            "  (North)\n",
            "\n",
            "Action: 5, Reward: 20, Total Reward: 10\n",
            "+---------+\n",
            "|\u001b[35m\u001b[34;1m\u001b[43mR\u001b[0m\u001b[0m\u001b[0m: | : :G|\n",
            "| : | : : |\n",
            "| : : : : |\n",
            "| | : | : |\n",
            "|Y| : |B: |\n",
            "+---------+\n",
            "  (Dropoff)\n",
            "\n",
            "Total Reward during test: 10\n"
          ]
        }
      ]
    }
  ]
}